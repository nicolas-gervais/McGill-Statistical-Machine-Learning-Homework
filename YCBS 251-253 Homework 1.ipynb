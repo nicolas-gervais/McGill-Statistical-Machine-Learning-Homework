{
 "cells": [
 
  {
   "cell_type": "code",
   "execution_count": 1,
   "metadata": {},
   "outputs": [],
   "source": [
    "# The following pieces of code gives the opportunity to show multiple outputs\n",
    "# in one cell:\n",
    "from IPython.core.interactiveshell import InteractiveShell\n",
    "InteractiveShell.ast_node_interactivity = \"all\"\n",
    "\n",
    "# Colorful outputs\n",
    "class bcolors:\n",
    "    RED       = '\\033[91m'\n",
    "    OKBLUE    = '\\033[94m'\n",
    "    BOLD      = '\\033[1m'\n",
    "    UNDERLINE = '\\033[4m'\n",
    "    ENDC      = '\\033[0m'"
   ]
  },
  {
   "cell_type": "code",
   "execution_count": 2,
   "metadata": {},
   "outputs": [],
   "source": [
    "import numpy as np\n",
    "import scipy.stats  as stats\n",
    "import math\n",
    "import pandas as pd\n",
    "import matplotlib.pyplot as plt\n",
    "%matplotlib inline "
   ]
  },
  {
   "cell_type": "markdown",
   "metadata": {},
   "source": [
    "# Question 1\n",
    "Write a piece of program that takes as input $2$ lists called `list1` and `list2`. `list1` contains $5$ first names (strings) and `list2` has $3$ first names. `list1` and `list2` may or may not have common names. Then, it returns a third list called `set_difference` which contains those names in `list1` that are not in `list2`.\n",
    "\n",
    "**Example**\n",
    "\n",
    "list1 = $\\{\\mbox{John, Michael, Vanessa, Ahmed, Tiffany}\\}$ <br>\n",
    "list2 = $\\{\\mbox{Cyrus, Vanessa}\\}$ <br>\n",
    "Expected Output : $\\{\\mbox{John, Michael, Ahmed, Tiffany}\\}$\n",
    "\n"
   ]
  },
  {
   "cell_type": "code",
   "execution_count": 3,
   "metadata": {},
   "outputs": [
    {
     "name": "stdout",
     "output_type": "stream",
     "text": [
      "Names of list1:  ['Hubert' 'Suzanne' 'Cristina' 'Suzanne' 'Courtney']\n",
      "Names of list2:  ['Courtney' 'Hubert' 'Conrad']\n",
      "Names unique to list 1 (set_difference):  ['Cristina' 'Suzanne']\n"
     ]
    }
   ],
   "source": [
    "names = [\"Conrad\", \"Santiago\", \"Courtney\", \"Kelvin\", \"Dana\", \"Nick\", \"Cristina\", \"Suzanne\", \"Hubert\", \"Geneva\"]\n",
    "\n",
    "list1 = np.random.choice(names, 5) \n",
    "list2 = np.random.choice(names, 3)\n",
    "\n",
    "def foo(list_a, list_b):\n",
    "    set_difference = []\n",
    "    for item in list_a:\n",
    "        if item not in list_b:\n",
    "            set_difference.append(item)\n",
    "    return np.unique(set_difference)\n",
    "\n",
    "print(\"Names of list1: \", list1)\n",
    "print(\"Names of list2: \", list2)\n",
    "print(\"Names unique to list 1 (set_difference): \", foo(list1, list2)) "
   ]
  },
  {
   "cell_type": "markdown",
   "metadata": {},
   "source": [
    "## Question 2\n",
    "Write a Python **function** that takes two **positive integers** and returns their **greatest common divisor**. In case you pass a negative integer to the function it must return the following string: \n",
    "     <span style=\"color:red\"> \"This function takes only positive integers!\" </span>"
   ]
  },
  {
   "cell_type": "code",
   "execution_count": 4,
   "metadata": {},
   "outputs": [
    {
     "name": "stdout",
     "output_type": "stream",
     "text": [
      "integer1: 43 \t integer2: 72\n",
      "1\n"
     ]
    }
   ],
   "source": [
    "integer1 = np.random.randint(-20, 100) \n",
    "integer2 = np.random.randint(-20, 100)\n",
    "\n",
    "def bar(int_1, int_2):\n",
    "    if min(int_1, int_2) < 0:\n",
    "        error = bcolors.RED + \"This function takes only positive integers!\" + bcolors.ENDC\n",
    "        return error\n",
    "    while int_2:\n",
    "        int_1, int_2 = int_2, int_1%int_2\n",
    "    return int_1\n",
    "\n",
    "print(\"integer1:\", integer1, '\\t', \"integer2:\", integer2)\n",
    "print(bar(integer1, integer2)) "
   ]
  },
  {
   "cell_type": "markdown",
   "metadata": {},
   "source": [
    "## Question 3\n",
    "Write a function that prints all the prime numbers in the interval $[0,p]$, where $p$ is a parameter to be         passed to the function. "
   ]
  },
  {
   "cell_type": "code",
   "execution_count": 5,
   "metadata": {},
   "outputs": [
    {
     "name": "stdout",
     "output_type": "stream",
     "text": [
      "resulting prime numbers: [89, 83, 79, 73, 71, 67, 61, 59, 53, 47, 43, 41, 37, 31, 29, 23, 19, 17, 13, 11, 7, 5, 3, 2]\n",
      "number p: 92\n"
     ]
    }
   ],
   "source": [
    "p =  np.random.randint(1, 100)\n",
    "\n",
    "def prime(number):\n",
    "    prime_numbers = []\n",
    "    for i in range(0, p - 1):\n",
    "        potential_factors = 2\n",
    "        while number % potential_factors != 0 and potential_factors < number:\n",
    "            potential_factors += 1 \n",
    "        if potential_factors >= number:\n",
    "            prime_numbers.append(potential_factors)\n",
    "        number -= 1\n",
    "    return prime_numbers\n",
    "      \n",
    "print(\"resulting prime numbers:\", prime(p))\n",
    "print(\"number p:\", p)"
   ]
  },
  {
   "cell_type": "markdown",
   "metadata": {},
   "source": [
    "## Question 4\n",
    "  1. Set seed by the initial value $1231$ and define the following variables (Python objects) with the shown assigned values:\n",
    "    + `size` $\\longleftarrow 1000$,\n",
    "    + `n` $\\longleftarrow 700$,\n",
    "    + `p` $\\longleftarrow 0.3$\n",
    "  2. Randomly generate `size` number of itegers in $(0,200)$ and save them as `col1`.\n",
    "  3. Randomly generate `size` number of values according to $\\mbox{Unif}[0,1]$ and call it `col2`.\n",
    "  4. Randomly generate `2*size` numbers from $\\mbox{Binom}($ `n`,`p` $)$ and randomly select `size` number of them\n",
    "     and save as `col3`.\n",
    "  5. Define the following functions \n",
    "    + $\\texttt{funct1}(x)= \\ln x$\n",
    "    + $\\texttt{funct2}(x)= \\frac{10 \\exp(x)}{1+\\exp(x)}$\n",
    "    + $\\texttt{funct3}(x)= \\frac{350}{100\\sqrt{2\\pi}}.\\exp{\\left(-\\frac{x^2}{20000}\\right)}$\n",
    "  6. Define \n",
    "    + `col4`$=\\texttt{funct1}($ `col1` $)$,\n",
    "    + `col5`$=\\texttt{funct2}($ `col2` $)$, and \n",
    "    + `col6`$=\\texttt{funct3}($ `col3` $)$;\n",
    "  7. Randomly generate `size` number of genders from the set $\\{\\mbox{Female, Male}\\}$ and save them as `col7`.\n",
    "  8. Construct a **data frame** with $7$ columns `col1` to `col7` and call it `mydata`.\n",
    "  8. Describe the dataset using the descriptive statistics discussed in the class.\n",
    "  9. Use the appropriate visualisation tool to visualize each variable in the dataset.\n",
    "  10. Using **loops** scatterplot every pair of columns versus each other if appropriate.\n",
    "  "
   ]
  },
  {
   "cell_type": "code",
   "execution_count": 6,
   "metadata": {},
   "outputs": [],
   "source": [
    "# 1 \n",
    "np.random.seed(1231)\n",
    "size = 1000\n",
    "n = 700\n",
    "p = 0.3"
   ]
  },
  {
   "cell_type": "code",
   "execution_count": 7,
   "metadata": {},
   "outputs": [],
   "source": [
    "# 2\n",
    "col1 = np.random.randint(1, 200, size) # can't put 0 as an option here, since we log(col1) later"
   ]
  },
  {
   "cell_type": "code",
   "execution_count": 8,
   "metadata": {},
   "outputs": [],
   "source": [
    "# 3\n",
    "col2 = stats.uniform.rvs(loc = 0, scale = 1, size=size)"
   ]
  },
  {
   "cell_type": "code",
   "execution_count": 9,
   "metadata": {},
   "outputs": [],
   "source": [
    "# 4\n",
    "col3 = np.random.choice(np.random.binomial(n, p, 2*size), size)"
   ]
  },
  {
   "cell_type": "code",
   "execution_count": 10,
   "metadata": {},
   "outputs": [],
   "source": [
    "# 5\n",
    "def funct1(x):\n",
    "    return np.log(x)\n",
    "def funct2(x):\n",
    "    return (10**x)/(1+1**x)\n",
    "def funct3(x):\n",
    "    return (350)/(100*np.sqrt(2*math.pi))**(-x**2/20000)"
   ]
  },
  {
   "cell_type": "code",
   "execution_count": 11,
   "metadata": {},
   "outputs": [],
   "source": [
    "# 6\n",
    "col4 = funct1(col1)\n",
    "col5 = funct2(col2)\n",
    "col6 = funct3(col3)"
   ]
  },
  {
   "cell_type": "code",
   "execution_count": 12,
   "metadata": {},
   "outputs": [],
   "source": [
    "# 7\n",
    "sex = [\"male\", \"female\"]\n",
    "col7 = np.random.choice(sex, size)"
   ]
  },
  {
   "cell_type": "code",
   "execution_count": 13,
   "metadata": {},
   "outputs": [
    {
     "data": {
      "text/html": [
       "<div>\n",
       "<style scoped>\n",
       "    .dataframe tbody tr th:only-of-type {\n",
       "        vertical-align: middle;\n",
       "    }\n",
       "\n",
       "    .dataframe tbody tr th {\n",
       "        vertical-align: top;\n",
       "    }\n",
       "\n",
       "    .dataframe thead th {\n",
       "        text-align: right;\n",
       "    }\n",
       "</style>\n",
       "<table border=\"1\" class=\"dataframe\">\n",
       "  <thead>\n",
       "    <tr style=\"text-align: right;\">\n",
       "      <th></th>\n",
       "      <th>0</th>\n",
       "      <th>1</th>\n",
       "      <th>2</th>\n",
       "      <th>3</th>\n",
       "      <th>4</th>\n",
       "      <th>5</th>\n",
       "      <th>6</th>\n",
       "    </tr>\n",
       "  </thead>\n",
       "  <tbody>\n",
       "    <tr>\n",
       "      <th>0</th>\n",
       "      <td>169</td>\n",
       "      <td>0.21777</td>\n",
       "      <td>224</td>\n",
       "      <td>5.1299</td>\n",
       "      <td>0.825543</td>\n",
       "      <td>3.65515e+08</td>\n",
       "      <td>male</td>\n",
       "    </tr>\n",
       "    <tr>\n",
       "      <th>1</th>\n",
       "      <td>22</td>\n",
       "      <td>0.74016</td>\n",
       "      <td>188</td>\n",
       "      <td>3.09104</td>\n",
       "      <td>2.74872</td>\n",
       "      <td>6.07771e+06</td>\n",
       "      <td>female</td>\n",
       "    </tr>\n",
       "    <tr>\n",
       "      <th>2</th>\n",
       "      <td>6</td>\n",
       "      <td>0.251332</td>\n",
       "      <td>223</td>\n",
       "      <td>1.79176</td>\n",
       "      <td>0.89187</td>\n",
       "      <td>3.23062e+08</td>\n",
       "      <td>male</td>\n",
       "    </tr>\n",
       "    <tr>\n",
       "      <th>3</th>\n",
       "      <td>53</td>\n",
       "      <td>0.0907956</td>\n",
       "      <td>204</td>\n",
       "      <td>3.97029</td>\n",
       "      <td>0.616262</td>\n",
       "      <td>3.43633e+07</td>\n",
       "      <td>male</td>\n",
       "    </tr>\n",
       "    <tr>\n",
       "      <th>4</th>\n",
       "      <td>168</td>\n",
       "      <td>0.193927</td>\n",
       "      <td>195</td>\n",
       "      <td>5.12396</td>\n",
       "      <td>0.781442</td>\n",
       "      <td>1.27449e+07</td>\n",
       "      <td>female</td>\n",
       "    </tr>\n",
       "  </tbody>\n",
       "</table>\n",
       "</div>"
      ],
      "text/plain": [
       "     0          1    2        3         4            5       6\n",
       "0  169    0.21777  224   5.1299  0.825543  3.65515e+08    male\n",
       "1   22    0.74016  188  3.09104   2.74872  6.07771e+06  female\n",
       "2    6   0.251332  223  1.79176   0.89187  3.23062e+08    male\n",
       "3   53  0.0907956  204  3.97029  0.616262  3.43633e+07    male\n",
       "4  168   0.193927  195  5.12396  0.781442  1.27449e+07  female"
      ]
     },
     "execution_count": 13,
     "metadata": {},
     "output_type": "execute_result"
    }
   ],
   "source": [
    "# 8\n",
    "mydata = pd.DataFrame([col1, col2, col3, col4, col5, col6, col7]).transpose()\n",
    "mydata.head()"
   ]
  },
  {
   "cell_type": "code",
   "execution_count": 14,
   "metadata": {},
   "outputs": [
    {
     "name": "stdout",
     "output_type": "stream",
     "text": [
      "<class 'pandas.core.frame.DataFrame'>\n",
      "RangeIndex: 1000 entries, 0 to 999\n",
      "Data columns (total 7 columns):\n",
      "0    1000 non-null object\n",
      "1    1000 non-null object\n",
      "2    1000 non-null object\n",
      "3    1000 non-null object\n",
      "4    1000 non-null object\n",
      "5    1000 non-null object\n",
      "6    1000 non-null object\n",
      "dtypes: object(7)\n",
      "memory usage: 54.8+ KB\n"
     ]
    }
   ],
   "source": [
    "# 9.1\n",
    "mydata.info()"
   ]
  },
  {
   "cell_type": "code",
   "execution_count": 15,
   "metadata": {},
   "outputs": [
    {
     "data": {
      "text/html": [
       "<div>\n",
       "<style scoped>\n",
       "    .dataframe tbody tr th:only-of-type {\n",
       "        vertical-align: middle;\n",
       "    }\n",
       "\n",
       "    .dataframe tbody tr th {\n",
       "        vertical-align: top;\n",
       "    }\n",
       "\n",
       "    .dataframe thead th {\n",
       "        text-align: right;\n",
       "    }\n",
       "</style>\n",
       "<table border=\"1\" class=\"dataframe\">\n",
       "  <thead>\n",
       "    <tr style=\"text-align: right;\">\n",
       "      <th></th>\n",
       "      <th>0</th>\n",
       "      <th>1</th>\n",
       "      <th>2</th>\n",
       "      <th>3</th>\n",
       "      <th>4</th>\n",
       "      <th>5</th>\n",
       "      <th>6</th>\n",
       "    </tr>\n",
       "  </thead>\n",
       "  <tbody>\n",
       "    <tr>\n",
       "      <th>count</th>\n",
       "      <td>1000</td>\n",
       "      <td>1000.000000</td>\n",
       "      <td>1000</td>\n",
       "      <td>1000.000000</td>\n",
       "      <td>1000.000000</td>\n",
       "      <td>1.000000e+03</td>\n",
       "      <td>1000</td>\n",
       "    </tr>\n",
       "    <tr>\n",
       "      <th>unique</th>\n",
       "      <td>199</td>\n",
       "      <td>1000.000000</td>\n",
       "      <td>64</td>\n",
       "      <td>199.000000</td>\n",
       "      <td>1000.000000</td>\n",
       "      <td>6.400000e+01</td>\n",
       "      <td>2</td>\n",
       "    </tr>\n",
       "    <tr>\n",
       "      <th>top</th>\n",
       "      <td>184</td>\n",
       "      <td>0.164085</td>\n",
       "      <td>210</td>\n",
       "      <td>5.214936</td>\n",
       "      <td>1.188352</td>\n",
       "      <td>6.824351e+07</td>\n",
       "      <td>male</td>\n",
       "    </tr>\n",
       "    <tr>\n",
       "      <th>freq</th>\n",
       "      <td>13</td>\n",
       "      <td>1.000000</td>\n",
       "      <td>43</td>\n",
       "      <td>13.000000</td>\n",
       "      <td>1.000000</td>\n",
       "      <td>4.300000e+01</td>\n",
       "      <td>503</td>\n",
       "    </tr>\n",
       "  </tbody>\n",
       "</table>\n",
       "</div>"
      ],
      "text/plain": [
       "           0            1     2            3            4             5     6\n",
       "count   1000  1000.000000  1000  1000.000000  1000.000000  1.000000e+03  1000\n",
       "unique   199  1000.000000    64   199.000000  1000.000000  6.400000e+01     2\n",
       "top      184     0.164085   210     5.214936     1.188352  6.824351e+07  male\n",
       "freq      13     1.000000    43    13.000000     1.000000  4.300000e+01   503"
      ]
     },
     "execution_count": 15,
     "metadata": {},
     "output_type": "execute_result"
    }
   ],
   "source": [
    "# 9.2\n",
    "mydata.describe()"
   ]
  },
  {
   "cell_type": "code",
   "execution_count": 16,
   "metadata": {},
   "outputs": [
    {
     "data": {
      "text/plain": [
       "<matplotlib.axes._subplots.AxesSubplot at 0x1b5d95a6550>"
      ]
     },
     "execution_count": 16,
     "metadata": {},
     "output_type": "execute_result"
    },
    {
     "data": {
      "image/png": "[encoded data removed]",
      "text/plain": [
       "<Figure size 432x288 with 1 Axes>"
      ]
     },
     "metadata": {
      "needs_background": "light"
     },
     "output_type": "display_data"
    }
   ],
   "source": [
    "# 10 \n",
    "mydata.iloc[:, 0].plot(kind=\"hist\", bins = 20, title=\"Frequency table of col1\")"
   ]
  },
  {
   "cell_type": "code",
   "execution_count": 17,
   "metadata": {},
   "outputs": [
    {
     "data": {
      "text/plain": [
       "<matplotlib.axes._subplots.AxesSubplot at 0x1b5d98d6e10>"
      ]
     },
     "execution_count": 17,
     "metadata": {},
     "output_type": "execute_result"
    },
    {
     "data": {
      "image/png": "[encoded data removed]",
      "text/plain": [
       "<Figure size 432x288 with 1 Axes>"
      ]
     },
     "metadata": {
      "needs_background": "light"
     },
     "output_type": "display_data"
    }
   ],
   "source": [
    "mydata.iloc[:, 1].plot(kind=\"hist\", title=\"Frequency table of col2\")"
   ]
  },
  {
   "cell_type": "code",
   "execution_count": 18,
   "metadata": {},
   "outputs": [
    {
     "data": {
      "text/plain": [
       "<matplotlib.axes._subplots.AxesSubplot at 0x1b5d994d438>"
      ]
     },
     "execution_count": 18,
     "metadata": {},
     "output_type": "execute_result"
    },
    {
     "data": {
      "image/png": "[encoded data removed]",
      "text/plain": [
       "<Figure size 432x288 with 1 Axes>"
      ]
     },
     "metadata": {
      "needs_background": "light"
     },
     "output_type": "display_data"
    }
   ],
   "source": [
    "mydata.iloc[:, 2].plot(kind=\"hist\", title=\"Frequency table of col3\", bins=50)"
   ]
  },
  {
   "cell_type": "code",
   "execution_count": 19,
   "metadata": {},
   "outputs": [
    {
     "data": {
      "text/plain": [
       "<matplotlib.axes._subplots.AxesSubplot at 0x1b5d991b4e0>"
      ]
     },
     "execution_count": 19,
     "metadata": {},
     "output_type": "execute_result"
    },
    {
     "data": {
      "image/png": "[encoded data removed]",
      "text/plain": [
       "<Figure size 432x288 with 1 Axes>"
      ]
     },
     "metadata": {
      "needs_background": "light"
     },
     "output_type": "display_data"
    }
   ],
   "source": [
    "mydata.iloc[:, 3].plot(kind=\"hist\", title=\"Frequency table of col4\", bins=50)"
   ]
  },
  {
   "cell_type": "code",
   "execution_count": 20,
   "metadata": {},
   "outputs": [
    {
     "data": {
      "text/plain": [
       "<matplotlib.axes._subplots.AxesSubplot at 0x1b5daa7ada0>"
      ]
     },
     "execution_count": 20,
     "metadata": {},
     "output_type": "execute_result"
    },
    {
     "data": {
      "image/png": "[encoded data removed]",
      "text/plain": [
       "<Figure size 432x288 with 1 Axes>"
      ]
     },
     "metadata": {
      "needs_background": "light"
     },
     "output_type": "display_data"
    }
   ],
   "source": [
    "mydata.iloc[:, 4].plot(kind=\"hist\", title=\"Frequency table of col5\", bins=50)"
   ]
  },
  {
   "cell_type": "code",
   "execution_count": 21,
   "metadata": {},
   "outputs": [
    {
     "data": {
      "text/plain": [
       "<matplotlib.axes._subplots.AxesSubplot at 0x1b5d99e72b0>"
      ]
     },
     "execution_count": 21,
     "metadata": {},
     "output_type": "execute_result"
    },
    {
     "data": {
      "image/png": "[encoded data removed]",
      "text/plain": [
       "<Figure size 432x288 with 1 Axes>"
      ]
     },
     "metadata": {
      "needs_background": "light"
     },
     "output_type": "display_data"
    }
   ],
   "source": [
    "mydata.iloc[:, 5].plot(kind=\"hist\", title=\"Frequency table of col5\", bins=25)"
   ]
  },
  {
   "cell_type": "code",
   "execution_count": 22,
   "metadata": {},
   "outputs": [
    {
     "data": {
      "text/plain": [
       "<matplotlib.axes._subplots.AxesSubplot at 0x1b5d9934668>"
      ]
     },
     "execution_count": 22,
     "metadata": {},
     "output_type": "execute_result"
    },
    {
     "data": {
      "image/png": "[encoded data removed]",
      "text/plain": [
       "<Figure size 432x288 with 1 Axes>"
      ]
     },
     "metadata": {
      "needs_background": "light"
     },
     "output_type": "display_data"
    }
   ],
   "source": [
    "mydata.iloc[:, 6].value_counts().plot(kind='bar', title=\"Sex frequency table\")"
   ]
  },
  {
   "cell_type": "code",
   "execution_count": 23,
   "metadata": {},
   "outputs": [
    {
     "data": {
      "text/html": [
       "<div>\n",
       "<style scoped>\n",
       "    .dataframe tbody tr th:only-of-type {\n",
       "        vertical-align: middle;\n",
       "    }\n",
       "\n",
       "    .dataframe tbody tr th {\n",
       "        vertical-align: top;\n",
       "    }\n",
       "\n",
       "    .dataframe thead th {\n",
       "        text-align: right;\n",
       "    }\n",
       "</style>\n",
       "<table border=\"1\" class=\"dataframe\">\n",
       "  <thead>\n",
       "    <tr style=\"text-align: right;\">\n",
       "      <th></th>\n",
       "      <th>0</th>\n",
       "      <th>1</th>\n",
       "      <th>2</th>\n",
       "      <th>3</th>\n",
       "      <th>4</th>\n",
       "      <th>5</th>\n",
       "    </tr>\n",
       "  </thead>\n",
       "  <tbody>\n",
       "    <tr>\n",
       "      <th>0</th>\n",
       "      <td>1.000000</td>\n",
       "      <td>-0.009565</td>\n",
       "      <td>0.023659</td>\n",
       "      <td>0.886843</td>\n",
       "      <td>-0.009890</td>\n",
       "      <td>0.011832</td>\n",
       "    </tr>\n",
       "    <tr>\n",
       "      <th>1</th>\n",
       "      <td>-0.009565</td>\n",
       "      <td>1.000000</td>\n",
       "      <td>0.029118</td>\n",
       "      <td>-0.010242</td>\n",
       "      <td>0.958669</td>\n",
       "      <td>0.025205</td>\n",
       "    </tr>\n",
       "    <tr>\n",
       "      <th>2</th>\n",
       "      <td>0.023659</td>\n",
       "      <td>0.029118</td>\n",
       "      <td>1.000000</td>\n",
       "      <td>0.046769</td>\n",
       "      <td>0.034160</td>\n",
       "      <td>0.659517</td>\n",
       "    </tr>\n",
       "    <tr>\n",
       "      <th>3</th>\n",
       "      <td>0.886843</td>\n",
       "      <td>-0.010242</td>\n",
       "      <td>0.046769</td>\n",
       "      <td>1.000000</td>\n",
       "      <td>-0.010936</td>\n",
       "      <td>0.009273</td>\n",
       "    </tr>\n",
       "    <tr>\n",
       "      <th>4</th>\n",
       "      <td>-0.009890</td>\n",
       "      <td>0.958669</td>\n",
       "      <td>0.034160</td>\n",
       "      <td>-0.010936</td>\n",
       "      <td>1.000000</td>\n",
       "      <td>0.021747</td>\n",
       "    </tr>\n",
       "    <tr>\n",
       "      <th>5</th>\n",
       "      <td>0.011832</td>\n",
       "      <td>0.025205</td>\n",
       "      <td>0.659517</td>\n",
       "      <td>0.009273</td>\n",
       "      <td>0.021747</td>\n",
       "      <td>1.000000</td>\n",
       "    </tr>\n",
       "  </tbody>\n",
       "</table>\n",
       "</div>"
      ],
      "text/plain": [
       "          0         1         2         3         4         5\n",
       "0  1.000000 -0.009565  0.023659  0.886843 -0.009890  0.011832\n",
       "1 -0.009565  1.000000  0.029118 -0.010242  0.958669  0.025205\n",
       "2  0.023659  0.029118  1.000000  0.046769  0.034160  0.659517\n",
       "3  0.886843 -0.010242  0.046769  1.000000 -0.010936  0.009273\n",
       "4 -0.009890  0.958669  0.034160 -0.010936  1.000000  0.021747\n",
       "5  0.011832  0.025205  0.659517  0.009273  0.021747  1.000000"
      ]
     },
     "execution_count": 23,
     "metadata": {},
     "output_type": "execute_result"
    }
   ],
   "source": [
    "# 11 It is not always appropriate, only the first three are linked to the three last. The rest are not connected \n",
    "#    so there's nothing to see. However, three plots are worth looking at.\n",
    "mydata = mydata.iloc[:, :6].astype(float)\n",
    "mydata.iloc[:, :6].corr()"
   ]
  },
  {
   "cell_type": "code",
   "execution_count": 24,
   "metadata": {},
   "outputs": [
    {
     "data": {
      "text/plain": [
       "<matplotlib.collections.PathCollection at 0x1b5daca4f98>"
      ]
     },
     "execution_count": 24,
     "metadata": {},
     "output_type": "execute_result"
    },
    {
     "data": {
      "text/plain": [
       "<matplotlib.collections.PathCollection at 0x1b5dacb0588>"
      ]
     },
     "execution_count": 24,
     "metadata": {},
     "output_type": "execute_result"
    },
    {
     "data": {
      "text/plain": [
       "<matplotlib.collections.PathCollection at 0x1b5dacb0978>"
      ]
     },
     "execution_count": 24,
     "metadata": {},
     "output_type": "execute_result"
    },
    {
     "data": {
      "image/png": "[encoded data removed]",
      "text/plain": [
       "<Figure size 432x288 with 1 Axes>"
      ]
     },
     "metadata": {
      "needs_background": "light"
     },
     "output_type": "display_data"
    }
   ],
   "source": [
    "for i in mydata.columns[0:3]:\n",
    "    plt.scatter(mydata.iloc[:, i], mydata.iloc[:, i+3])"
   ]
  },
  {
   "cell_type": "markdown",
   "metadata": {},
   "source": [
    "## Question 5\n",
    "  1. Assume that $X\\sim N(\\mu,\\sigma^2)$ with $\\mu=55, \\sigma=15$. Randomly generate a set of $1000,000$ values for $X$              according to the given distribution and call it set $D$.\n",
    "  2. Pretend that $D$ is your whole population. Choose a sample of $1000$ values from $D$. \n",
    "  3. Plot an approximate density distribution function using the selected sample. \n",
    "  3. Using a loop repeat the second step $30$ times. For each sample estimate the population mean and save each estimate. Calculate the *mean squared error* of your estimated means.\n",
    "  4. Plot the histogram of all $30$ saved sample means (**Only sample means**). According to the histogram, what is the *sampling distribution* of the mean?\n",
    "  5. If instead of $500$ times, we resample over and over for a large number of times, how does the sample mean change?"
   ]
  },
  {
   "cell_type": "code",
   "execution_count": 25,
   "metadata": {},
   "outputs": [],
   "source": [
    "# 1\n",
    "D = np.random.normal(55, 15, 100000)"
   ]
  },
  {
   "cell_type": "code",
   "execution_count": 26,
   "metadata": {},
   "outputs": [],
   "source": [
    "# 2\n",
    "subsample = np.random.choice(D, 1000)"
   ]
  },
  {
   "cell_type": "code",
   "execution_count": 27,
   "metadata": {},
   "outputs": [
    {
     "data": {
      "text/plain": [
       "<matplotlib.axes._subplots.AxesSubplot at 0x1b5dacd63c8>"
      ]
     },
     "execution_count": 27,
     "metadata": {},
     "output_type": "execute_result"
    },
    {
     "data": {
      "image/png": "[encoded data removed]",
      "text/plain": [
       "<Figure size 432x288 with 1 Axes>"
      ]
     },
     "metadata": {
      "needs_background": "light"
     },
     "output_type": "display_data"
    }
   ],
   "source": [
    "# 3 \n",
    "pd.DataFrame(subsample).plot(kind=\"density\")"
   ]
  },
  {
   "cell_type": "code",
   "execution_count": 28,
   "metadata": {},
   "outputs": [
    {
     "data": {
      "text/plain": [
       "0.24550914632293747"
      ]
     },
     "execution_count": 28,
     "metadata": {},
     "output_type": "execute_result"
    }
   ],
   "source": [
    "# 4\n",
    "means = []\n",
    "for i in range(30):\n",
    "    temp_subsample = np.random.choice(D, 1000)\n",
    "    means.append(np.mean(temp_subsample))\n",
    "    \n",
    "total_error = []\n",
    "for item in means:\n",
    "    total_error.append((item - np.mean(D))**2)\n",
    "mse = np.mean(total_error)\n",
    "mse"
   ]
  },
  {
   "cell_type": "code",
   "execution_count": 29,
   "metadata": {},
   "outputs": [
    {
     "data": {
      "text/plain": [
       "<matplotlib.axes._subplots.AxesSubplot at 0x1b5dad3c978>"
      ]
     },
     "execution_count": 29,
     "metadata": {},
     "output_type": "execute_result"
    },
    {
     "data": {
      "image/png": "[encoded data removed]",
      "text/plain": [
       "<Figure size 432x288 with 1 Axes>"
      ]
     },
     "metadata": {
      "needs_background": "light"
     },
     "output_type": "display_data"
    }
   ],
   "source": [
    "# 5\n",
    "pd.Series(means).hist()"
   ]
  },
  {
   "cell_type": "code",
   "execution_count": 30,
   "metadata": {},
   "outputs": [
    {
     "name": "stdout",
     "output_type": "stream",
     "text": [
      "\u001b[91mThe sample mean would get closer to the population mean as the sample size increases, but I don't understand the \"instead of 500 times\", this wasn't mentioned previously.\u001b[0m\n"
     ]
    }
   ],
   "source": [
    "# 6\n",
    "print(bcolors.RED + \"The sample mean would get closer to the population mean as the sample size\" \n",
    "      \" increases, but I don't understand the \\\"instead of 500 times\\\", this wasn't mentioned previously.\" + bcolors.ENDC)"
   ]
  },
  {
   "cell_type": "markdown",
   "metadata": {},
   "source": [
    "## Question 6\n",
    "Suppose that we would like to model the event of flipping a coin for $15$ times. If the probability of getting heads equals $0.6$, then answer the following questions. <br>\n",
    "<span style=\"color:red\"> **Do not forget to include your codes.**</span>  \n",
    "  1. Which distribution is it and what are the parameters of the distribution? Is it a discrete or continuous distribution?\n",
    "  2. What is the probability of obtaining $10$ heads? Explain how to calculate it.\n",
    "  3. What is the probability of getting more than or equal to $10$ heads? What about less than or equal to $10$\n",
    "     head? What should be the summation of these two probabilities and why?\n",
    "  4. Find the expected value of obtained number of heads in each trial? (**Each trial consists of $15$ tosses**)\n",
    "  5. How probable is it to get (H,H,H,T,T,H,T,T,H,T,H,H,H,T,H)?\n",
    "  6. Find the first, second, and the third quantiles.\n",
    "  7. Repeat the trial $10$ times and estimate the mean each time. Using `pandas.crosstab` build the frequency table of the results. Plot the histogram of these ten estimates. \n",
    "  8. Now, gradually increase the number of trials from $100$ to $1000$. (start from $100$ and add $50$ each time to reach $1000$.) Plot the histogram for the sample mean each time. How does the sampling distribun of mean is changing?\n",
    "  \n",
    "   "
   ]
  },
  {
   "cell_type": "code",
   "execution_count": 31,
   "metadata": {},
   "outputs": [],
   "source": [
    "# 1. That would be a Bernoulli distribution. It has one parameter, probability p, and its distribution is discrete."
   ]
  },
  {
   "cell_type": "code",
   "execution_count": 32,
   "metadata": {},
   "outputs": [
    {
     "name": "stdout",
     "output_type": "stream",
     "text": [
      "19.0 %\n"
     ]
    }
   ],
   "source": [
    "# 2. Roughly 19%. One must calculate the total number of possible outcomes, and then the probability of each\n",
    "import math\n",
    "p = 0.6\n",
    "k = 10\n",
    "n = 15\n",
    "\n",
    "how_many_outcomes = math.factorial(n)/(math.factorial(k)*math.factorial(n-k))\n",
    "outcome_probability = (p**k)*((1-p)**(n-k))\n",
    "probab_k_out_of_n = how_many_outcomes*outcome_probability\n",
    "print(np.round(probab_k_out_of_n, 2)*100, \"%\")"
   ]
  },
  {
   "cell_type": "code",
   "execution_count": 33,
   "metadata": {},
   "outputs": [
    {
     "name": "stdout",
     "output_type": "stream",
     "text": [
      "40.0 %\n"
     ]
    }
   ],
   "source": [
    "# 3.1\n",
    "probabilities_ten_more = []\n",
    "for a in range(10, 16):\n",
    "    number_outcomes = math.factorial(n)/(math.factorial(a)*math.factorial(n-a))\n",
    "    probability_outcome = (p**a)*((1-p)**(n-a))\n",
    "    probabilities_ten_more.append(number_outcomes*probability_outcome)\n",
    "ten_and_above = sum(probabilities_ten_more)\n",
    "print(np.round(ten_and_above, 2)*100, \"%\")"
   ]
  },
  {
   "cell_type": "code",
   "execution_count": 34,
   "metadata": {},
   "outputs": [
    {
     "name": "stdout",
     "output_type": "stream",
     "text": [
      "60.0 %\n"
     ]
    }
   ],
   "source": [
    "# 3.2\n",
    "probabilities_ten_under = []\n",
    "for b in range(0, 10):\n",
    "    number_outcomes = math.factorial(n)/(math.factorial(b)*math.factorial(n-b))\n",
    "    probability_outcome = (p**b)*((1-p)**(n-b))\n",
    "    probabilities_ten_under.append(number_outcomes*probability_outcome)\n",
    "ten_under = sum(probabilities_ten_under)\n",
    "print(np.round(ten_under, 2)*100, \"%\")"
   ]
  },
  {
   "cell_type": "code",
   "execution_count": 35,
   "metadata": {},
   "outputs": [],
   "source": [
    "# 3.3 The summation should be 1, because the number of heads is either above or below 10. 100% of \n",
    "#     possbilities are inside these categories"
   ]
  },
  {
   "cell_type": "code",
   "execution_count": 36,
   "metadata": {},
   "outputs": [
    {
     "name": "stdout",
     "output_type": "stream",
     "text": [
      "9/15\n"
     ]
    }
   ],
   "source": [
    "# 4. The expected value would be the probability of heads, multiplied by the number of tosses. \n",
    "\n",
    "E = n*p\n",
    "print(str(int(E)) + \"/15\")"
   ]
  },
  {
   "cell_type": "code",
   "execution_count": 37,
   "metadata": {},
   "outputs": [
    {
     "name": "stdout",
     "output_type": "stream",
     "text": [
      "0.0041 %\n"
     ]
    }
   ],
   "source": [
    "# 5 The odds are about 0.4%\n",
    "\n",
    "H = p\n",
    "T = 1 -p\n",
    "probab = H*H*H*T*T*H*T*T*H*T*H*H*H*T*H\n",
    "print(np.round(probab, 6)*100, \"%\")"
   ]
  },
  {
   "cell_type": "code",
   "execution_count": 38,
   "metadata": {},
   "outputs": [],
   "source": [
    "# 6"
   ]
  },
  {
   "cell_type": "code",
   "execution_count": 39,
   "metadata": {},
   "outputs": [
    {
     "data": {
      "text/plain": [
       "(array([1., 0., 2., 0., 1., 1., 0., 2., 2., 1.]),\n",
       " array([ 5. ,  5.7,  6.4,  7.1,  7.8,  8.5,  9.2,  9.9, 10.6, 11.3, 12. ]),\n",
       " <a list of 10 Patch objects>)"
      ]
     },
     "execution_count": 39,
     "metadata": {},
     "output_type": "execute_result"
    },
    {
     "data": {
      "image/png": "[encoded data removed]",
      "text/plain": [
       "<Figure size 432x288 with 1 Axes>"
      ]
     },
     "metadata": {
      "needs_background": "light"
     },
     "output_type": "display_data"
    }
   ],
   "source": [
    "# 7 Repeat the trial  10  times and estimate the mean each time. Using pandas.crosstab build \n",
    "# the frequency table of the results. Plot the histogram of these ten estimates.\n",
    "list_means = []\n",
    "for i in range(10):\n",
    "    list_heads = []\n",
    "    for i in range(15):\n",
    "        list_heads.append(np.random.choice(2, p=[0.4, 0.6]))\n",
    "    list_means.append(np.round(np.sum(list_heads), 4))\n",
    "list_means = np.asarray(list_means)\n",
    "plt.hist(list_means)"
   ]
  },
  {
   "cell_type": "code",
   "execution_count": 40,
   "metadata": {},
   "outputs": [
    {
     "data": {
      "text/plain": [
       "(array([ 3.,  0., 11., 24., 38., 30., 32., 26., 12.,  4.]),\n",
       " array([ 3. ,  4.1,  5.2,  6.3,  7.4,  8.5,  9.6, 10.7, 11.8, 12.9, 14. ]),\n",
       " <a list of 10 Patch objects>)"
      ]
     },
     "execution_count": 40,
     "metadata": {},
     "output_type": "execute_result"
    },
    {
     "data": {
      "image/png": "[encoded data removed]",
      "text/plain": [
       "<Figure size 432x288 with 1 Axes>"
      ]
     },
     "metadata": {
      "needs_background": "light"
     },
     "output_type": "display_data"
    }
   ],
   "source": [
    "# 8 \n",
    "list_means_2 = []\n",
    "for i in np.arange(100, 1000, 50):\n",
    "    for i in range(10):\n",
    "        list_heads = []\n",
    "        for i in range(15):\n",
    "            list_heads.append(np.random.choice(2, p=[0.4, 0.6]))\n",
    "        list_means_2.append(np.round(np.sum(list_heads), 4))\n",
    "list_means = np.asarray(list_means_2)\n",
    "plt.hist(list_means_2)"
   ]
  },
  {
   "cell_type": "markdown",
   "metadata": {},
   "source": [
    "## Question 7\n",
    "Assume that for a study we want to sample people from the Montreal population. The target of the study is a particular disease. If the probability of sampling a person with this disease equals $0.007$. \n",
    "  1. How many people we need to sample totally in order to get exactly $73$ patients with the disease?\n",
    "  2. How many people we need to sample totally in order to have at least $73$ patients with the target disease?\n",
    "  3. What distribution is it and what are its parameters?\n",
    "  4. Callculate the expected value, variance, as well as the first, second and the third quantiles.\n",
    "   "
   ]
  },
  {
   "cell_type": "code",
   "execution_count": 41,
   "metadata": {},
   "outputs": [
    {
     "data": {
      "text/plain": [
       "5.468044531166087e-118"
      ]
     },
     "execution_count": 41,
     "metadata": {},
     "output_type": "execute_result"
    }
   ],
   "source": [
    "# 1 \n",
    "stats.poisson.pmf(k=73, mu=0.7)"
   ]
  },
  {
   "cell_type": "code",
   "execution_count": 42,
   "metadata": {},
   "outputs": [
    {
     "data": {
      "text/plain": [
       "0.5830397501929852"
      ]
     },
     "execution_count": 42,
     "metadata": {},
     "output_type": "execute_result"
    }
   ],
   "source": [
    "# 2 \n",
    "stats.poisson.cdf(k=10, mu=10)"
   ]
  },
  {
   "cell_type": "code",
   "execution_count": 43,
   "metadata": {},
   "outputs": [
    {
     "data": {
      "text/plain": [
       "array([41, 50, 57, ..., 58, 53, 55])"
      ]
     },
     "execution_count": 43,
     "metadata": {},
     "output_type": "execute_result"
    }
   ],
   "source": [
    "population_ages1 = stats.poisson.rvs(loc=18, mu=35, size=150000)\n",
    "population_ages1"
   ]
  },
  {
   "cell_type": "markdown",
   "metadata": {},
   "source": [
    "## Question 8\n",
    "  1. Generate $1000$ data points according to the exponential distribution with parameter $\\lambda = 1.2$.\n",
    "  2. Estimate the mean of the sample.\n",
    "  3. Repeat the first step but each time increase the sample size up to $1000,000$. Calculate the sample mean each time. Scatterplot the mean versus the sample size for each repetition. Do you see any trend in the plot sample means? Can you guess the limit of the sample mean due to the plot?   \n"
   ]
  },
  {
   "cell_type": "code",
   "execution_count": 44,
   "metadata": {},
   "outputs": [],
   "source": [
    "# 1 \n",
    "lambda_param = 1.2 \n",
    "exp_array = np.random.exponential(lambda_param, 1000)"
   ]
  },
  {
   "cell_type": "code",
   "execution_count": 45,
   "metadata": {},
   "outputs": [
    {
     "data": {
      "text/plain": [
       "1.1106015200987749"
      ]
     },
     "execution_count": 45,
     "metadata": {},
     "output_type": "execute_result"
    }
   ],
   "source": [
    "# 2\n",
    "np.mean(exp_array)"
   ]
  },
  {
   "cell_type": "code",
   "execution_count": 46,
   "metadata": {},
   "outputs": [
    {
     "data": {
      "text/plain": [
       "<matplotlib.collections.PathCollection at 0x1b5daef6828>"
      ]
     },
     "execution_count": 46,
     "metadata": {},
     "output_type": "execute_result"
    },
    {
     "data": {
      "image/png": "[encoded data removed]",
      "text/plain": [
       "<Figure size 432x288 with 1 Axes>"
      ]
     },
     "metadata": {
      "needs_background": "light"
     },
     "output_type": "display_data"
    }
   ],
   "source": [
    "# 3 The trend seems to be that the larger the sample size, the closer to 1.2 the mean gets. So the upper limit would be 1.2 with \n",
    "#   an infinitely large sample size \n",
    "sample_mean = []\n",
    "for i in np.arange(1000, 1000000, 1000):\n",
    "    sample_mean.append(np.mean(np.random.exponential(lambda_param, i)))\n",
    "plt.scatter(np.arange(1000,1000000, 1000), sample_mean, alpha=0.15)"
   ]
  },
  {
   "cell_type": "markdown",
   "metadata": {},
   "source": [
    "## Question 9\n",
    "<span style=\"color:red\">**Note:**</span> \n",
    "For this question you may need to **Google** in order to find commands necessary for some parts of the question. \n",
    "  1. Import `sklearn` library and from it import `datasets`. Aslso, set seed as in **Question 4**.\n",
    "  2. From `sklearn.datasets` load the dataset called \"Boston\". Read the documentaion of `sklearn.datasets` in order to understand the structure of datasets built in the library.\n",
    "  3. From the dataset `boston` extract the part called `data`. (`boston` is in the form of **dictionary** and includes different parts. You need to extract only the part called `data`)\n",
    "  4. Find the mean and standard deviation of each variable (=feature, column) in the data. \n",
    "  5. Assume the data you have are the whole population. Randomly sample $300$ entries from the $11$-th variable. Using this sample estimate estimate the population mean (whose true value is already calculated). \n",
    "  6. Provide a confidence interval with $95$% of confidence level. (To find the corresponding z-value you can use `stats.norm.ppf()`)\n",
    "  7. If you repeat Steps 5 and 6 above $20$ times, how many of these $20$ confidence intervals do you expect to include the true mean? Why?\n",
    "  8. Scatterplot the estimated means with their $95$% margins of error, as well as the true value of the mean. How many of the error margins include the true mean? Does it match with your answer to the previous step? If not, what is the reason in your opinion? \n",
    "  "
   ]
  },
  {
   "cell_type": "code",
   "execution_count": 47,
   "metadata": {},
   "outputs": [],
   "source": [
    "# 1\n",
    "from sklearn import datasets\n",
    "np.random.seed(42)"
   ]
  },
  {
   "cell_type": "code",
   "execution_count": 48,
   "metadata": {
    "scrolled": false
   },
   "outputs": [],
   "source": [
    "# 2\n",
    "boston = datasets.load_boston()"
   ]
  },
  {
   "cell_type": "code",
   "execution_count": 49,
   "metadata": {},
   "outputs": [],
   "source": [
    "# 3\n",
    "boston = boston.data"
   ]
  },
  {
   "cell_type": "code",
   "execution_count": 50,
   "metadata": {},
   "outputs": [
    {
     "data": {
      "text/html": [
       "<div>\n",
       "<style scoped>\n",
       "    .dataframe tbody tr th:only-of-type {\n",
       "        vertical-align: middle;\n",
       "    }\n",
       "\n",
       "    .dataframe tbody tr th {\n",
       "        vertical-align: top;\n",
       "    }\n",
       "\n",
       "    .dataframe thead th {\n",
       "        text-align: right;\n",
       "    }\n",
       "</style>\n",
       "<table border=\"1\" class=\"dataframe\">\n",
       "  <thead>\n",
       "    <tr style=\"text-align: right;\">\n",
       "      <th></th>\n",
       "      <th>0</th>\n",
       "      <th>1</th>\n",
       "      <th>2</th>\n",
       "      <th>3</th>\n",
       "      <th>4</th>\n",
       "      <th>5</th>\n",
       "      <th>6</th>\n",
       "      <th>7</th>\n",
       "      <th>8</th>\n",
       "      <th>9</th>\n",
       "      <th>10</th>\n",
       "      <th>11</th>\n",
       "      <th>12</th>\n",
       "    </tr>\n",
       "  </thead>\n",
       "  <tbody>\n",
       "    <tr>\n",
       "      <th>mean</th>\n",
       "      <td>3.593761</td>\n",
       "      <td>11.363636</td>\n",
       "      <td>11.136779</td>\n",
       "      <td>0.069170</td>\n",
       "      <td>0.554695</td>\n",
       "      <td>6.284634</td>\n",
       "      <td>68.574901</td>\n",
       "      <td>3.795043</td>\n",
       "      <td>9.549407</td>\n",
       "      <td>408.237154</td>\n",
       "      <td>18.455534</td>\n",
       "      <td>356.674032</td>\n",
       "      <td>12.653063</td>\n",
       "    </tr>\n",
       "    <tr>\n",
       "      <th>std</th>\n",
       "      <td>8.596783</td>\n",
       "      <td>23.322453</td>\n",
       "      <td>6.860353</td>\n",
       "      <td>0.253994</td>\n",
       "      <td>0.115878</td>\n",
       "      <td>0.702617</td>\n",
       "      <td>28.148861</td>\n",
       "      <td>2.105710</td>\n",
       "      <td>8.707259</td>\n",
       "      <td>168.537116</td>\n",
       "      <td>2.164946</td>\n",
       "      <td>91.294864</td>\n",
       "      <td>7.141062</td>\n",
       "    </tr>\n",
       "  </tbody>\n",
       "</table>\n",
       "</div>"
      ],
      "text/plain": [
       "            0          1          2         3         4         5          6   \\\n",
       "mean  3.593761  11.363636  11.136779  0.069170  0.554695  6.284634  68.574901   \n",
       "std   8.596783  23.322453   6.860353  0.253994  0.115878  0.702617  28.148861   \n",
       "\n",
       "            7         8           9          10          11         12  \n",
       "mean  3.795043  9.549407  408.237154  18.455534  356.674032  12.653063  \n",
       "std   2.105710  8.707259  168.537116   2.164946   91.294864   7.141062  "
      ]
     },
     "execution_count": 50,
     "metadata": {},
     "output_type": "execute_result"
    }
   ],
   "source": [
    "# 4\n",
    "df = pd.DataFrame(boston)\n",
    "df.describe()[1:3]"
   ]
  },
  {
   "cell_type": "code",
   "execution_count": 51,
   "metadata": {},
   "outputs": [
    {
     "data": {
      "text/plain": [
       "357.9886"
      ]
     },
     "execution_count": 51,
     "metadata": {},
     "output_type": "execute_result"
    }
   ],
   "source": [
    "# 5 \n",
    "np.random.seed(42)\n",
    "n = 300\n",
    "sample_mean = np.mean(np.random.choice(df[11], n))\n",
    "sample_mean"
   ]
  },
  {
   "cell_type": "code",
   "execution_count": 52,
   "metadata": {},
   "outputs": [
    {
     "name": "stdout",
     "output_type": "stream",
     "text": [
      "[ 347.67 - 368.31 ]\n"
     ]
    }
   ],
   "source": [
    "# 6\n",
    "pop_std = np.std(df[11])\n",
    "z = stats.norm.ppf(q = 0.975)\n",
    "upper_bound = np.round(sample_mean + z*(pop_std/np.sqrt(n)), 2)\n",
    "lower_bound = np.round(sample_mean - z*(pop_std/np.sqrt(n)), 2)\n",
    "print(\"[\", lower_bound, \"-\", upper_bound, \"]\")"
   ]
  },
  {
   "cell_type": "code",
   "execution_count": 53,
   "metadata": {},
   "outputs": [],
   "source": [
    "# 7 We can expect 19, because a 95% (or 19/20) confidence interval stands for \"95% of the time, the confidence interval will \n",
    "#   capture the true parameter\""
   ]
  },
  {
   "cell_type": "code",
   "execution_count": 54,
   "metadata": {},
   "outputs": [
    {
     "data": {
      "image/png": "[encoded data removed]",
      "text/plain": [
       "<Figure size 648x648 with 1 Axes>"
      ]
     },
     "metadata": {
      "needs_background": "light"
     },
     "output_type": "display_data"
    }
   ],
   "source": [
    "# 8\n",
    "np.random.seed(42)\n",
    "points = []\n",
    "error_bars = []\n",
    "\n",
    "for i in range(20):\n",
    "    point = np.mean(np.random.choice(df[11], n))\n",
    "    points.append(point)\n",
    "    upper_bound = np.round(point + z*(pop_std/np.sqrt(n)), 2)\n",
    "    lower_bound = np.round(point - z*(pop_std/np.sqrt(n)), 2)\n",
    "    error_bars.append([lower_bound, upper_bound])\n",
    "\n",
    "pop_mean = np.mean(df[11])\n",
    "\n",
    "plt.figure(figsize=(9, 9))\n",
    "\n",
    "plt.errorbar(x=np.arange(0.1, 20, 1), y=points, yerr=[(upper-lower)/2 for upper, lower in error_bars], fmt='o')\n",
    "\n",
    "plt.hlines(xmin=-1, xmax=20, y=pop_mean, linewidth=3.0, color=\"red\", alpha= 0.4);"
   ]
  },
  {
   "cell_type": "code",
   "execution_count": 55,
   "metadata": {},
   "outputs": [],
   "source": [
    "# 8.1\n",
    "# Only 18 confidence intervals contain the true mean. No, it doesn't match. Earlier, I inspected the values of \n",
    "# column 11, and a very large majority was above 350. However, some were below 1. If the sample of 300 was unfortunate \n",
    "# enough to contain 2 or 3 of these values, it would radically lower the mean of this sample. "
   ]
  }
 ],
 "metadata": {
  "kernelspec": {
   "display_name": "Python 3",
   "language": "python",
   "name": "python3"
  },
  "language_info": {
   "codemirror_mode": {
    "name": "ipython",
    "version": 3
   },
   "file_extension": ".py",
   "mimetype": "text/x-python",
   "name": "python",
   "nbconvert_exporter": "python",
   "pygments_lexer": "ipython3",
   "version": "3.7.0"
  }
 },
 "nbformat": 4,
 "nbformat_minor": 2
}
